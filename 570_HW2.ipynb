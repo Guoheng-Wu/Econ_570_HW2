{
 "cells": [
  {
   "cell_type": "markdown",
   "id": "47d2c349",
   "metadata": {},
   "source": [
    "## Econ_570_HW2      Guoheng Wu"
   ]
  },
  {
   "cell_type": "markdown",
   "id": "e06317ba",
   "metadata": {},
   "source": [
    "### Function"
   ]
  },
  {
   "cell_type": "code",
   "execution_count": 1,
   "id": "5323a14a",
   "metadata": {},
   "outputs": [],
   "source": [
    "def fn_generate_cov(dim,corr):\n",
    "    acc  = []\n",
    "    for i in range(dim):\n",
    "        row = np.ones((1,dim)) * corr\n",
    "        row[0][i] = 1\n",
    "        acc.append(row)\n",
    "    return np.concatenate(acc,axis=0)\n",
    "\n",
    "# Generate all Covariates X variable\n",
    "def fn_generate_multnorm(nobs, corr, nvar):\n",
    "    std = (np.abs(np.random.normal(loc = 1, scale = 0.5,size = (nvar,1))))**(1/2)\n",
    "    acc = []\n",
    "    for i in range(nvar):\n",
    "        acc.append(np.reshape(np.random.normal(0,std[i],nobs),(nobs,1)))\n",
    "    \n",
    "    normvars = np.concatenate(acc,axis=1)\n",
    "    cov = fn_generate_cov(nvar,corr)\n",
    "    c = np.linalg.cholesky(cov)\n",
    "    X = np.transpose(np.dot(c,np.transpose(normvars)))\n",
    "    return X\n",
    "\n",
    "# Generate Confounder variable C\n",
    "def fn_randomize_conf(nobs):\n",
    "    conf = np.reshape(np.random.normal(4,2,nobs),(nobs,1))\n",
    "    return conf\n",
    "\n",
    "# Generate Treatment variable T\n",
    "def fn_randomize_treatment(nobs,conf,C):\n",
    "    T = []\n",
    "    if conf==False:\n",
    "        for i in range(nobs):\n",
    "            t = np.random.choice(np.arange(0, 2), p=[0.5, 0.5])\n",
    "            T.append(t)\n",
    "    if conf==True:\n",
    "        for i in range(nobs):\n",
    "            t = np.random.choice(np.arange(0, 2), p=[0.5-0.025*float(C[i]), 0.5+0.025*float(C[i])])\n",
    "            T.append(t)\n",
    "    return np.reshape(T,(nobs,1))\n",
    "\n",
    "# Generate Variable between the path from the treatment to the outcome S\n",
    "def fn_randomize_s(nobs,T):\n",
    "    S = []\n",
    "    for i in range(nobs):\n",
    "        s = np.random.choice(np.arange(0, 2), p=[0.5-0.1*float(T[i]), 0.5+0.1*float(T[i])])\n",
    "        S.append(s)\n",
    "    return np.reshape(S,(nobs,1))\n",
    "\n",
    "# Generate Data\n",
    "def fn_generate_data(tau,N,p,corr,conf,sv):\n",
    "\n",
    "    if conf==False:\n",
    "        conf_mult = 0 \n",
    "    if conf==True:\n",
    "        conf_mult = 1\n",
    "    if sv==False:\n",
    "        s_mult = 0\n",
    "    if sv==True:\n",
    "        s_mult = 1\n",
    "    \n",
    "    X = fn_generate_multnorm(N,corr,p)\n",
    "    C = fn_randomize_conf(N)\n",
    "    T = fn_randomize_treatment(N,conf,C)\n",
    "    S = fn_randomize_s(N,T)\n",
    "    err = np.random.normal(0,1,[N,1])\n",
    "    beta0 = np.random.normal(5,5,[p,1])\n",
    "    \n",
    "    Yab = tau*T+X@beta0+conf_mult*0.6*C+s_mult*1*S+err\n",
    "        \n",
    "    if conf==False and sv==False:\n",
    "        return (Yab,T,X)   \n",
    "    if conf==True and sv==False:\n",
    "        return (Yab,T,X,C)\n",
    "    if conf==False and sv==True:\n",
    "        return (Yab,T,X,S)    \n",
    "    if conf==True and sv==True:\n",
    "        return (Yab,T,X,C,S) \n",
    "\n",
    "def fn_tauhat_means(Yt,Yc):\n",
    "    nt = len(Yt)\n",
    "    nc = len(Yc)\n",
    "    tauhat = np.mean(Yt)-np.mean(Yc)\n",
    "    se_tauhat = (np.var(Yt,ddof=1)/nt+np.var(Yc,ddof=1)/nc)**(1/2)\n",
    "    return (tauhat,se_tauhat)\n",
    "\n",
    "# Return estimate tauhats and sehats\n",
    "def fn_get_estimate(tau,Nrange,p,corr,conf,sv,control_conf,control_flagX,control_s):\n",
    "\n",
    "    tauhats = []\n",
    "    sehats = []\n",
    "    for r in tqdm(Nrange):\n",
    "        if conf==False and sv==False:\n",
    "            if control_flagX==False:\n",
    "                Yexp,T,X = fn_generate_data(tau,N,p,corr,conf,sv)\n",
    "                Yt = Yexp[np.where(T==1)[0],:]\n",
    "                Yc = Yexp[np.where(T==0)[0],:]\n",
    "                tauhat,se_tauhat = fn_tauhat_means(Yt,Yc)            \n",
    "            if control_flagX==True:\n",
    "                Yexp,T,X = fn_generate_data(tau,N,p,corr,conf,sv)\n",
    "                covars = np.concatenate([T,X],axis = 1)\n",
    "                mod = sm.OLS(Yexp,covars)\n",
    "                res = mod.fit()\n",
    "                tauhat = res.params[0]\n",
    "                se_tauhat = res.HC1_se[0]\n",
    "        if conf==True and sv==False:\n",
    "            if control_conf==False:\n",
    "                Yexp,T,X,C = fn_generate_data(tau,N,p,corr,conf,sv)\n",
    "                covars = np.concatenate([T,X],axis = 1)\n",
    "                mod = sm.OLS(Yexp,covars)\n",
    "                res = mod.fit()\n",
    "                tauhat = res.params[0]\n",
    "                se_tauhat = res.HC1_se[0]\n",
    "            if control_conf==True:\n",
    "                Yexp,T,X,C = fn_generate_data(tau,N,p,corr,conf,sv)\n",
    "                covars = np.concatenate([T,X,C],axis = 1)\n",
    "                mod = sm.OLS(Yexp,covars)\n",
    "                res = mod.fit()\n",
    "                tauhat = res.params[0]\n",
    "                se_tauhat = res.HC1_se[0]\n",
    "        if conf==False and sv==True:\n",
    "            if control_s==False:\n",
    "                Yexp,T,X,S = fn_generate_data(tau,N,p,corr,conf,sv)\n",
    "                covars = np.concatenate([T,X],axis = 1)\n",
    "                mod = sm.OLS(Yexp,covars)\n",
    "                res = mod.fit()\n",
    "                tauhat = res.params[0]\n",
    "                se_tauhat = res.HC1_se[0]\n",
    "            if control_s==True:\n",
    "                Yexp,T,X,S = fn_generate_data(tau,N,p,corr,conf,sv)\n",
    "                covars = np.concatenate([T,X,S],axis = 1)\n",
    "                mod = sm.OLS(Yexp,covars)\n",
    "                res = mod.fit()\n",
    "                tauhat = res.params[0]\n",
    "                se_tauhat = res.HC1_se[0]\n",
    "            \n",
    "        tauhats = tauhats + [tauhat]\n",
    "        sehats = sehats + [se_tauhat]          \n",
    "    return (tauhats,sehats)\n",
    "\n",
    "# Return bias,rmse,size of treatment effect estimate\n",
    "def fn_bias_rmse_size(theta0,thetahat,se_thetahat,cval = 1.96):\n",
    "    b = thetahat - theta0\n",
    "    bias = np.mean(b)\n",
    "    rmse = np.sqrt(np.mean(b**2))\n",
    "    tval = b/se_thetahat\n",
    "    size = np.mean(1*(np.abs(tval)>cval))\n",
    "    return (bias,rmse,size)"
   ]
  },
  {
   "cell_type": "code",
   "execution_count": 2,
   "id": "93aaa1b7",
   "metadata": {},
   "outputs": [],
   "source": [
    "import warnings\n",
    "warnings.filterwarnings('ignore')\n",
    "import pandas as pd\n",
    "import numpy as np\n",
    "import graphviz as gr\n",
    "import random\n",
    "from tqdm import tqdm\n",
    "import statsmodels.api as sm"
   ]
  },
  {
   "cell_type": "markdown",
   "id": "8d790a5f",
   "metadata": {},
   "source": [
    "# 1. Simulate a DGP where the outcome of interest depends on a randomly assigned treatment and some observed covariates.\n",
    "\n",
    "#### $y_i = \\tau*T_i+\\beta'*X_i+e_i$"
   ]
  },
  {
   "cell_type": "markdown",
   "id": "8b3b33dc",
   "metadata": {},
   "source": [
    "##### 1.1 Simulate a DGP"
   ]
  },
  {
   "cell_type": "code",
   "execution_count": 3,
   "id": "716282ce",
   "metadata": {},
   "outputs": [
    {
     "data": {
      "text/html": [
       "<div>\n",
       "<style scoped>\n",
       "    .dataframe tbody tr th:only-of-type {\n",
       "        vertical-align: middle;\n",
       "    }\n",
       "\n",
       "    .dataframe tbody tr th {\n",
       "        vertical-align: top;\n",
       "    }\n",
       "\n",
       "    .dataframe thead th {\n",
       "        text-align: right;\n",
       "    }\n",
       "</style>\n",
       "<table border=\"1\" class=\"dataframe\">\n",
       "  <thead>\n",
       "    <tr style=\"text-align: right;\">\n",
       "      <th></th>\n",
       "      <th>Y</th>\n",
       "      <th>T</th>\n",
       "      <th>x1</th>\n",
       "      <th>x2</th>\n",
       "      <th>x3</th>\n",
       "    </tr>\n",
       "  </thead>\n",
       "  <tbody>\n",
       "    <tr>\n",
       "      <th>0</th>\n",
       "      <td>4.542495</td>\n",
       "      <td>0.0</td>\n",
       "      <td>-0.303630</td>\n",
       "      <td>-0.243272</td>\n",
       "      <td>-0.928186</td>\n",
       "    </tr>\n",
       "    <tr>\n",
       "      <th>1</th>\n",
       "      <td>-1.483708</td>\n",
       "      <td>1.0</td>\n",
       "      <td>-0.146598</td>\n",
       "      <td>0.186781</td>\n",
       "      <td>0.423251</td>\n",
       "    </tr>\n",
       "    <tr>\n",
       "      <th>2</th>\n",
       "      <td>4.064908</td>\n",
       "      <td>1.0</td>\n",
       "      <td>-1.620561</td>\n",
       "      <td>-0.260921</td>\n",
       "      <td>-0.417264</td>\n",
       "    </tr>\n",
       "    <tr>\n",
       "      <th>3</th>\n",
       "      <td>3.339060</td>\n",
       "      <td>1.0</td>\n",
       "      <td>-0.858866</td>\n",
       "      <td>-0.115051</td>\n",
       "      <td>-0.085675</td>\n",
       "    </tr>\n",
       "    <tr>\n",
       "      <th>4</th>\n",
       "      <td>-3.198980</td>\n",
       "      <td>0.0</td>\n",
       "      <td>0.568730</td>\n",
       "      <td>-0.167513</td>\n",
       "      <td>0.326894</td>\n",
       "    </tr>\n",
       "    <tr>\n",
       "      <th>...</th>\n",
       "      <td>...</td>\n",
       "      <td>...</td>\n",
       "      <td>...</td>\n",
       "      <td>...</td>\n",
       "      <td>...</td>\n",
       "    </tr>\n",
       "    <tr>\n",
       "      <th>995</th>\n",
       "      <td>4.552629</td>\n",
       "      <td>1.0</td>\n",
       "      <td>0.450306</td>\n",
       "      <td>0.488858</td>\n",
       "      <td>0.205315</td>\n",
       "    </tr>\n",
       "    <tr>\n",
       "      <th>996</th>\n",
       "      <td>4.312938</td>\n",
       "      <td>0.0</td>\n",
       "      <td>0.675622</td>\n",
       "      <td>1.263295</td>\n",
       "      <td>0.320321</td>\n",
       "    </tr>\n",
       "    <tr>\n",
       "      <th>997</th>\n",
       "      <td>3.786552</td>\n",
       "      <td>1.0</td>\n",
       "      <td>-0.297619</td>\n",
       "      <td>0.018928</td>\n",
       "      <td>0.292351</td>\n",
       "    </tr>\n",
       "    <tr>\n",
       "      <th>998</th>\n",
       "      <td>7.459664</td>\n",
       "      <td>1.0</td>\n",
       "      <td>-1.741210</td>\n",
       "      <td>-0.836639</td>\n",
       "      <td>-1.298153</td>\n",
       "    </tr>\n",
       "    <tr>\n",
       "      <th>999</th>\n",
       "      <td>-4.516568</td>\n",
       "      <td>1.0</td>\n",
       "      <td>-1.465953</td>\n",
       "      <td>-1.263917</td>\n",
       "      <td>0.167011</td>\n",
       "    </tr>\n",
       "  </tbody>\n",
       "</table>\n",
       "<p>1000 rows × 5 columns</p>\n",
       "</div>"
      ],
      "text/plain": [
       "            Y    T        x1        x2        x3\n",
       "0    4.542495  0.0 -0.303630 -0.243272 -0.928186\n",
       "1   -1.483708  1.0 -0.146598  0.186781  0.423251\n",
       "2    4.064908  1.0 -1.620561 -0.260921 -0.417264\n",
       "3    3.339060  1.0 -0.858866 -0.115051 -0.085675\n",
       "4   -3.198980  0.0  0.568730 -0.167513  0.326894\n",
       "..        ...  ...       ...       ...       ...\n",
       "995  4.552629  1.0  0.450306  0.488858  0.205315\n",
       "996  4.312938  0.0  0.675622  1.263295  0.320321\n",
       "997  3.786552  1.0 -0.297619  0.018928  0.292351\n",
       "998  7.459664  1.0 -1.741210 -0.836639 -1.298153\n",
       "999 -4.516568  1.0 -1.465953 -1.263917  0.167011\n",
       "\n",
       "[1000 rows x 5 columns]"
      ]
     },
     "execution_count": 3,
     "metadata": {},
     "output_type": "execute_result"
    }
   ],
   "source": [
    "tau = 3\n",
    "corr = .5\n",
    "conf = False\n",
    "sv = False\n",
    "p = 3\n",
    "N = 1000\n",
    "(Yab,T,X) = fn_generate_data(tau,N,p,corr,conf,sv)\n",
    "data1 = np.concatenate((Yab,T,X),axis=1)\n",
    "Data1 = pd.DataFrame(np.array(data1), columns=['Y','T','x1','x2','x3',])\n",
    "Data1"
   ]
  },
  {
   "cell_type": "markdown",
   "id": "857c03b3",
   "metadata": {},
   "source": [
    "##### 1.2 Illustrate the DGP with a DAG"
   ]
  },
  {
   "cell_type": "code",
   "execution_count": 4,
   "id": "53e63d84",
   "metadata": {},
   "outputs": [
    {
     "data": {
      "image/svg+xml": [
       "<?xml version=\"1.0\" encoding=\"UTF-8\" standalone=\"no\"?>\n",
       "<!DOCTYPE svg PUBLIC \"-//W3C//DTD SVG 1.1//EN\"\n",
       " \"http://www.w3.org/Graphics/SVG/1.1/DTD/svg11.dtd\">\n",
       "<!-- Generated by graphviz version 2.50.0 (20211204.2007)\n",
       " -->\n",
       "<!-- Pages: 1 -->\n",
       "<svg width=\"278pt\" height=\"116pt\"\n",
       " viewBox=\"0.00 0.00 278.00 116.00\" xmlns=\"http://www.w3.org/2000/svg\" xmlns:xlink=\"http://www.w3.org/1999/xlink\">\n",
       "<g id=\"graph0\" class=\"graph\" transform=\"scale(1 1) rotate(0) translate(4 112)\">\n",
       "<polygon fill=\"white\" stroke=\"transparent\" points=\"-4,4 -4,-112 274,-112 274,4 -4,4\"/>\n",
       "<!-- T -->\n",
       "<g id=\"node1\" class=\"node\">\n",
       "<title>T</title>\n",
       "<ellipse fill=\"none\" stroke=\"gold\" cx=\"27\" cy=\"-90\" rx=\"27\" ry=\"18\"/>\n",
       "<text text-anchor=\"middle\" x=\"27\" y=\"-86.3\" font-family=\"Times,serif\" font-size=\"14.00\">T</text>\n",
       "</g>\n",
       "<!-- Y -->\n",
       "<g id=\"node2\" class=\"node\">\n",
       "<title>Y</title>\n",
       "<ellipse fill=\"none\" stroke=\"black\" cx=\"135\" cy=\"-18\" rx=\"27\" ry=\"18\"/>\n",
       "<text text-anchor=\"middle\" x=\"135\" y=\"-14.3\" font-family=\"Times,serif\" font-size=\"14.00\">Y</text>\n",
       "</g>\n",
       "<!-- T&#45;&gt;Y -->\n",
       "<g id=\"edge1\" class=\"edge\">\n",
       "<title>T&#45;&gt;Y</title>\n",
       "<path fill=\"none\" stroke=\"black\" d=\"M45.81,-76.81C63,-65.67 88.62,-49.06 107.99,-36.5\"/>\n",
       "<polygon fill=\"black\" stroke=\"black\" points=\"109.92,-39.43 116.4,-31.05 106.11,-33.56 109.92,-39.43\"/>\n",
       "</g>\n",
       "<!-- x1 -->\n",
       "<g id=\"node3\" class=\"node\">\n",
       "<title>x1</title>\n",
       "<ellipse fill=\"none\" stroke=\"black\" cx=\"99\" cy=\"-90\" rx=\"27\" ry=\"18\"/>\n",
       "<text text-anchor=\"middle\" x=\"99\" y=\"-86.3\" font-family=\"Times,serif\" font-size=\"14.00\">x1</text>\n",
       "</g>\n",
       "<!-- x1&#45;&gt;Y -->\n",
       "<g id=\"edge2\" class=\"edge\">\n",
       "<title>x1&#45;&gt;Y</title>\n",
       "<path fill=\"none\" stroke=\"black\" d=\"M107.35,-72.76C111.71,-64.28 117.15,-53.71 122.04,-44.2\"/>\n",
       "<polygon fill=\"black\" stroke=\"black\" points=\"125.23,-45.64 126.7,-35.15 119.01,-42.44 125.23,-45.64\"/>\n",
       "</g>\n",
       "<!-- x2 -->\n",
       "<g id=\"node4\" class=\"node\">\n",
       "<title>x2</title>\n",
       "<ellipse fill=\"none\" stroke=\"black\" cx=\"171\" cy=\"-90\" rx=\"27\" ry=\"18\"/>\n",
       "<text text-anchor=\"middle\" x=\"171\" y=\"-86.3\" font-family=\"Times,serif\" font-size=\"14.00\">x2</text>\n",
       "</g>\n",
       "<!-- x2&#45;&gt;Y -->\n",
       "<g id=\"edge3\" class=\"edge\">\n",
       "<title>x2&#45;&gt;Y</title>\n",
       "<path fill=\"none\" stroke=\"black\" d=\"M162.65,-72.76C158.29,-64.28 152.85,-53.71 147.96,-44.2\"/>\n",
       "<polygon fill=\"black\" stroke=\"black\" points=\"150.99,-42.44 143.3,-35.15 144.77,-45.64 150.99,-42.44\"/>\n",
       "</g>\n",
       "<!-- x3 -->\n",
       "<g id=\"node5\" class=\"node\">\n",
       "<title>x3</title>\n",
       "<ellipse fill=\"none\" stroke=\"black\" cx=\"243\" cy=\"-90\" rx=\"27\" ry=\"18\"/>\n",
       "<text text-anchor=\"middle\" x=\"243\" y=\"-86.3\" font-family=\"Times,serif\" font-size=\"14.00\">x3</text>\n",
       "</g>\n",
       "<!-- x3&#45;&gt;Y -->\n",
       "<g id=\"edge4\" class=\"edge\">\n",
       "<title>x3&#45;&gt;Y</title>\n",
       "<path fill=\"none\" stroke=\"black\" d=\"M224.19,-76.81C207,-65.67 181.38,-49.06 162.01,-36.5\"/>\n",
       "<polygon fill=\"black\" stroke=\"black\" points=\"163.89,-33.56 153.6,-31.05 160.08,-39.43 163.89,-33.56\"/>\n",
       "</g>\n",
       "</g>\n",
       "</svg>\n"
      ],
      "text/plain": [
       "<graphviz.graphs.Digraph at 0x7f83d5893b50>"
      ]
     },
     "execution_count": 4,
     "metadata": {},
     "output_type": "execute_result"
    }
   ],
   "source": [
    "g = gr.Digraph()\n",
    "g.edge(\"T\", \"Y\"),g.node(\"T\", color=\"gold\")\n",
    "g.edge(\"x1\", \"Y\"),g.edge(\"x2\", \"Y\"),g.edge(\"x3\", \"Y\")\n",
    "g"
   ]
  },
  {
   "cell_type": "markdown",
   "id": "dbf95ddc",
   "metadata": {},
   "source": [
    "##### 1.3 Using a Monte Carlo experiment"
   ]
  },
  {
   "cell_type": "markdown",
   "id": "ad4ad969",
   "metadata": {},
   "source": [
    "a. Do not control for any covariates"
   ]
  },
  {
   "cell_type": "code",
   "execution_count": 5,
   "id": "be7ee135",
   "metadata": {},
   "outputs": [
    {
     "name": "stderr",
     "output_type": "stream",
     "text": [
      "100%|██████████████████████████████████████| 2000/2000 [00:09<00:00, 211.82it/s]\n",
      "100%|███████████████████████████████████████| 2000/2000 [01:19<00:00, 25.16it/s]"
     ]
    },
    {
     "name": "stdout",
     "output_type": "stream",
     "text": [
      "N=100: bias=-0.1544156951162044, RMSE=3.0409286600886754, size=0.0505\n",
      "N=1000: bias=0.017661301791664145, RMSE=0.9607420689300841, size=0.051\n"
     ]
    },
    {
     "name": "stderr",
     "output_type": "stream",
     "text": [
      "\n"
     ]
    }
   ],
   "source": [
    "control_conf=False\n",
    "control_flagX=False\n",
    "control_s=False\n",
    "estDict = {}\n",
    "Nrange = range(2000)\n",
    "for N in [100,1000]:\n",
    "    tauhats,sehats = fn_get_estimate(tau,Nrange,p,corr,conf,sv,control_conf,control_flagX,control_s)\n",
    "    estDict[N] = {\n",
    "        'tauhat':np.array(tauhats).reshape([len(tauhats),1]),\n",
    "        'sehat':np.array(sehats).reshape([len(sehats),1])\n",
    "    }\n",
    "\n",
    "tau0 = tau*np.ones([len(Nrange),1])\n",
    "for N, results in estDict.items():\n",
    "    (bias,rmse,size) = fn_bias_rmse_size(tau0,results['tauhat'],\n",
    "                                         results['sehat'])\n",
    "    print(f'N={N}: bias={bias}, RMSE={rmse}, size={size}')"
   ]
  },
  {
   "cell_type": "markdown",
   "id": "bddad5ac",
   "metadata": {},
   "source": [
    "b. Control for all the covariates that affect the outcome"
   ]
  },
  {
   "cell_type": "code",
   "execution_count": 6,
   "id": "499cebd3",
   "metadata": {},
   "outputs": [
    {
     "name": "stderr",
     "output_type": "stream",
     "text": [
      "100%|██████████████████████████████████████| 2000/2000 [00:09<00:00, 206.26it/s]\n",
      "100%|███████████████████████████████████████| 2000/2000 [01:20<00:00, 24.80it/s]"
     ]
    },
    {
     "name": "stdout",
     "output_type": "stream",
     "text": [
      "N=100: bias=-0.0003034654481782564, RMSE=0.14483063248298667, size=0.054\n",
      "N=1000: bias=0.0001923707206734677, RMSE=0.04510518510170598, size=0.053\n"
     ]
    },
    {
     "name": "stderr",
     "output_type": "stream",
     "text": [
      "\n"
     ]
    }
   ],
   "source": [
    "control_conf=False\n",
    "control_flagX=True\n",
    "control_sv=False\n",
    "estDict = {}\n",
    "Nrange = range(2000)\n",
    "for N in [100,1000]:\n",
    "    tauhats,sehats = fn_get_estimate(tau,Nrange,p,corr,conf,sv,control_conf,control_flagX,control_s)\n",
    "    estDict[N] = {\n",
    "        'tauhat':np.array(tauhats).reshape([len(tauhats),1]),\n",
    "        'sehat':np.array(sehats).reshape([len(sehats),1])\n",
    "    }\n",
    "\n",
    "tau0 = tau*np.ones([len(Nrange),1])\n",
    "for N, results in estDict.items():\n",
    "    (bias,rmse,size) = fn_bias_rmse_size(tau0,results['tauhat'],\n",
    "                                         results['sehat'])\n",
    "    print(f'N={N}: bias={bias}, RMSE={rmse}, size={size}')"
   ]
  },
  {
   "cell_type": "markdown",
   "id": "7a5d4c99",
   "metadata": {},
   "source": [
    "##### 1.4 Give an example of a real-life situation that might be consistent with the DGP."
   ]
  },
  {
   "cell_type": "markdown",
   "id": "d0610dd3",
   "metadata": {},
   "source": [
    "### If we want to test the effect of education(Uneducated or educated) on income, Age, IQ and family background are observed covariates that will also affect income, so they should be control."
   ]
  },
  {
   "cell_type": "code",
   "execution_count": 7,
   "id": "f6843160",
   "metadata": {},
   "outputs": [
    {
     "data": {
      "image/svg+xml": [
       "<?xml version=\"1.0\" encoding=\"UTF-8\" standalone=\"no\"?>\n",
       "<!DOCTYPE svg PUBLIC \"-//W3C//DTD SVG 1.1//EN\"\n",
       " \"http://www.w3.org/Graphics/SVG/1.1/DTD/svg11.dtd\">\n",
       "<!-- Generated by graphviz version 2.50.0 (20211204.2007)\n",
       " -->\n",
       "<!-- Pages: 1 -->\n",
       "<svg width=\"422pt\" height=\"116pt\"\n",
       " viewBox=\"0.00 0.00 422.09 116.00\" xmlns=\"http://www.w3.org/2000/svg\" xmlns:xlink=\"http://www.w3.org/1999/xlink\">\n",
       "<g id=\"graph0\" class=\"graph\" transform=\"scale(1 1) rotate(0) translate(4 112)\">\n",
       "<polygon fill=\"white\" stroke=\"transparent\" points=\"-4,4 -4,-112 418.09,-112 418.09,4 -4,4\"/>\n",
       "<!-- Education -->\n",
       "<g id=\"node1\" class=\"node\">\n",
       "<title>Education</title>\n",
       "<ellipse fill=\"none\" stroke=\"gold\" cx=\"46.15\" cy=\"-90\" rx=\"46.29\" ry=\"18\"/>\n",
       "<text text-anchor=\"middle\" x=\"46.15\" y=\"-86.3\" font-family=\"Times,serif\" font-size=\"14.00\">Education</text>\n",
       "</g>\n",
       "<!-- Income -->\n",
       "<g id=\"node2\" class=\"node\">\n",
       "<title>Income</title>\n",
       "<ellipse fill=\"none\" stroke=\"black\" cx=\"173.15\" cy=\"-18\" rx=\"37.89\" ry=\"18\"/>\n",
       "<text text-anchor=\"middle\" x=\"173.15\" y=\"-14.3\" font-family=\"Times,serif\" font-size=\"14.00\">Income</text>\n",
       "</g>\n",
       "<!-- Education&#45;&gt;Income -->\n",
       "<g id=\"edge1\" class=\"edge\">\n",
       "<title>Education&#45;&gt;Income</title>\n",
       "<path fill=\"none\" stroke=\"black\" d=\"M71.85,-74.83C91.54,-63.98 118.87,-48.91 140.18,-37.17\"/>\n",
       "<polygon fill=\"black\" stroke=\"black\" points=\"142.13,-40.09 149.2,-32.2 138.75,-33.96 142.13,-40.09\"/>\n",
       "</g>\n",
       "<!-- Age -->\n",
       "<g id=\"node3\" class=\"node\">\n",
       "<title>Age</title>\n",
       "<ellipse fill=\"none\" stroke=\"black\" cx=\"137.15\" cy=\"-90\" rx=\"27\" ry=\"18\"/>\n",
       "<text text-anchor=\"middle\" x=\"137.15\" y=\"-86.3\" font-family=\"Times,serif\" font-size=\"14.00\">Age</text>\n",
       "</g>\n",
       "<!-- Age&#45;&gt;Income -->\n",
       "<g id=\"edge2\" class=\"edge\">\n",
       "<title>Age&#45;&gt;Income</title>\n",
       "<path fill=\"none\" stroke=\"black\" d=\"M145.5,-72.76C149.8,-64.4 155.14,-54.02 159.98,-44.61\"/>\n",
       "<polygon fill=\"black\" stroke=\"black\" points=\"163.13,-46.13 164.59,-35.63 156.91,-42.93 163.13,-46.13\"/>\n",
       "</g>\n",
       "<!-- IQ -->\n",
       "<g id=\"node4\" class=\"node\">\n",
       "<title>IQ</title>\n",
       "<ellipse fill=\"none\" stroke=\"black\" cx=\"209.15\" cy=\"-90\" rx=\"27\" ry=\"18\"/>\n",
       "<text text-anchor=\"middle\" x=\"209.15\" y=\"-86.3\" font-family=\"Times,serif\" font-size=\"14.00\">IQ</text>\n",
       "</g>\n",
       "<!-- IQ&#45;&gt;Income -->\n",
       "<g id=\"edge3\" class=\"edge\">\n",
       "<title>IQ&#45;&gt;Income</title>\n",
       "<path fill=\"none\" stroke=\"black\" d=\"M200.8,-72.76C196.5,-64.4 191.15,-54.02 186.31,-44.61\"/>\n",
       "<polygon fill=\"black\" stroke=\"black\" points=\"189.39,-42.93 181.7,-35.63 183.16,-46.13 189.39,-42.93\"/>\n",
       "</g>\n",
       "<!-- Family background -->\n",
       "<g id=\"node5\" class=\"node\">\n",
       "<title>Family background</title>\n",
       "<ellipse fill=\"none\" stroke=\"black\" cx=\"334.15\" cy=\"-90\" rx=\"79.89\" ry=\"18\"/>\n",
       "<text text-anchor=\"middle\" x=\"334.15\" y=\"-86.3\" font-family=\"Times,serif\" font-size=\"14.00\">Family background</text>\n",
       "</g>\n",
       "<!-- Family background&#45;&gt;Income -->\n",
       "<g id=\"edge4\" class=\"edge\">\n",
       "<title>Family background&#45;&gt;Income</title>\n",
       "<path fill=\"none\" stroke=\"black\" d=\"M298.81,-73.64C272.35,-62.13 236.26,-46.44 209.54,-34.82\"/>\n",
       "<polygon fill=\"black\" stroke=\"black\" points=\"210.72,-31.52 200.16,-30.74 207.93,-37.94 210.72,-31.52\"/>\n",
       "</g>\n",
       "</g>\n",
       "</svg>\n"
      ],
      "text/plain": [
       "<graphviz.graphs.Digraph at 0x7f83d8dc0fd0>"
      ]
     },
     "execution_count": 7,
     "metadata": {},
     "output_type": "execute_result"
    }
   ],
   "source": [
    "g = gr.Digraph()\n",
    "g.edge(\"Education\", \"Income\"),g.node(\"Education\", color=\"gold\")\n",
    "g.edge(\"Age\", \"Income\"),g.edge(\"IQ\", \"Income\"),g.edge(\"Family background\", \"Income\")\n",
    "g"
   ]
  },
  {
   "cell_type": "markdown",
   "id": "da2bc30d",
   "metadata": {},
   "source": [
    "# 2. Simulate a DGP with a confounder\n"
   ]
  },
  {
   "cell_type": "markdown",
   "id": "977ae61a",
   "metadata": {},
   "source": [
    "#### $y_i = \\tau*T_i+\\beta'*X_i+\\alpha'*C_i+e_i$"
   ]
  },
  {
   "cell_type": "markdown",
   "id": "0eb4665c",
   "metadata": {},
   "source": [
    "##### 2.1 Simulate a DGP"
   ]
  },
  {
   "cell_type": "code",
   "execution_count": 8,
   "id": "3c489426",
   "metadata": {},
   "outputs": [
    {
     "data": {
      "text/html": [
       "<div>\n",
       "<style scoped>\n",
       "    .dataframe tbody tr th:only-of-type {\n",
       "        vertical-align: middle;\n",
       "    }\n",
       "\n",
       "    .dataframe tbody tr th {\n",
       "        vertical-align: top;\n",
       "    }\n",
       "\n",
       "    .dataframe thead th {\n",
       "        text-align: right;\n",
       "    }\n",
       "</style>\n",
       "<table border=\"1\" class=\"dataframe\">\n",
       "  <thead>\n",
       "    <tr style=\"text-align: right;\">\n",
       "      <th></th>\n",
       "      <th>Y</th>\n",
       "      <th>T</th>\n",
       "      <th>x1</th>\n",
       "      <th>x2</th>\n",
       "      <th>x3</th>\n",
       "      <th>C</th>\n",
       "    </tr>\n",
       "  </thead>\n",
       "  <tbody>\n",
       "    <tr>\n",
       "      <th>0</th>\n",
       "      <td>9.508728</td>\n",
       "      <td>1.0</td>\n",
       "      <td>-0.332990</td>\n",
       "      <td>0.694532</td>\n",
       "      <td>0.115403</td>\n",
       "      <td>3.135209</td>\n",
       "    </tr>\n",
       "    <tr>\n",
       "      <th>1</th>\n",
       "      <td>12.168810</td>\n",
       "      <td>1.0</td>\n",
       "      <td>-0.269907</td>\n",
       "      <td>-0.214294</td>\n",
       "      <td>0.718163</td>\n",
       "      <td>1.083125</td>\n",
       "    </tr>\n",
       "    <tr>\n",
       "      <th>2</th>\n",
       "      <td>7.775126</td>\n",
       "      <td>0.0</td>\n",
       "      <td>-0.319314</td>\n",
       "      <td>0.465294</td>\n",
       "      <td>0.198685</td>\n",
       "      <td>6.853592</td>\n",
       "    </tr>\n",
       "    <tr>\n",
       "      <th>3</th>\n",
       "      <td>-13.220471</td>\n",
       "      <td>1.0</td>\n",
       "      <td>-1.428525</td>\n",
       "      <td>-1.654021</td>\n",
       "      <td>-0.676871</td>\n",
       "      <td>5.838955</td>\n",
       "    </tr>\n",
       "    <tr>\n",
       "      <th>4</th>\n",
       "      <td>-5.296059</td>\n",
       "      <td>1.0</td>\n",
       "      <td>-0.492015</td>\n",
       "      <td>-0.478885</td>\n",
       "      <td>-0.597328</td>\n",
       "      <td>2.914141</td>\n",
       "    </tr>\n",
       "    <tr>\n",
       "      <th>...</th>\n",
       "      <td>...</td>\n",
       "      <td>...</td>\n",
       "      <td>...</td>\n",
       "      <td>...</td>\n",
       "      <td>...</td>\n",
       "      <td>...</td>\n",
       "    </tr>\n",
       "    <tr>\n",
       "      <th>995</th>\n",
       "      <td>0.889742</td>\n",
       "      <td>0.0</td>\n",
       "      <td>-0.120277</td>\n",
       "      <td>0.088200</td>\n",
       "      <td>-0.174567</td>\n",
       "      <td>4.232798</td>\n",
       "    </tr>\n",
       "    <tr>\n",
       "      <th>996</th>\n",
       "      <td>0.585875</td>\n",
       "      <td>0.0</td>\n",
       "      <td>-1.038221</td>\n",
       "      <td>-0.415435</td>\n",
       "      <td>0.479984</td>\n",
       "      <td>0.429668</td>\n",
       "    </tr>\n",
       "    <tr>\n",
       "      <th>997</th>\n",
       "      <td>3.389831</td>\n",
       "      <td>1.0</td>\n",
       "      <td>-0.650333</td>\n",
       "      <td>0.302697</td>\n",
       "      <td>-0.054984</td>\n",
       "      <td>1.738015</td>\n",
       "    </tr>\n",
       "    <tr>\n",
       "      <th>998</th>\n",
       "      <td>24.165534</td>\n",
       "      <td>1.0</td>\n",
       "      <td>1.496860</td>\n",
       "      <td>0.479524</td>\n",
       "      <td>0.801072</td>\n",
       "      <td>2.482929</td>\n",
       "    </tr>\n",
       "    <tr>\n",
       "      <th>999</th>\n",
       "      <td>36.859132</td>\n",
       "      <td>1.0</td>\n",
       "      <td>2.946695</td>\n",
       "      <td>1.417021</td>\n",
       "      <td>1.199105</td>\n",
       "      <td>1.219697</td>\n",
       "    </tr>\n",
       "  </tbody>\n",
       "</table>\n",
       "<p>1000 rows × 6 columns</p>\n",
       "</div>"
      ],
      "text/plain": [
       "             Y    T        x1        x2        x3         C\n",
       "0     9.508728  1.0 -0.332990  0.694532  0.115403  3.135209\n",
       "1    12.168810  1.0 -0.269907 -0.214294  0.718163  1.083125\n",
       "2     7.775126  0.0 -0.319314  0.465294  0.198685  6.853592\n",
       "3   -13.220471  1.0 -1.428525 -1.654021 -0.676871  5.838955\n",
       "4    -5.296059  1.0 -0.492015 -0.478885 -0.597328  2.914141\n",
       "..         ...  ...       ...       ...       ...       ...\n",
       "995   0.889742  0.0 -0.120277  0.088200 -0.174567  4.232798\n",
       "996   0.585875  0.0 -1.038221 -0.415435  0.479984  0.429668\n",
       "997   3.389831  1.0 -0.650333  0.302697 -0.054984  1.738015\n",
       "998  24.165534  1.0  1.496860  0.479524  0.801072  2.482929\n",
       "999  36.859132  1.0  2.946695  1.417021  1.199105  1.219697\n",
       "\n",
       "[1000 rows x 6 columns]"
      ]
     },
     "execution_count": 8,
     "metadata": {},
     "output_type": "execute_result"
    }
   ],
   "source": [
    "tau = 4\n",
    "corr = .4\n",
    "conf = True\n",
    "flagX = True\n",
    "sv = False\n",
    "p = 3\n",
    "N = 1000\n",
    "(Yab,T,X,C) = fn_generate_data(tau,N,p,corr,conf,sv)\n",
    "data2 = np.concatenate((Yab,T,X,C),axis=1)\n",
    "Data2 = pd.DataFrame(np.array(data2), columns=['Y','T','x1','x2','x3','C'])\n",
    "Data2"
   ]
  },
  {
   "cell_type": "markdown",
   "id": "2b126262",
   "metadata": {},
   "source": [
    "##### 2.2 Illustrate the DGP with a DAG"
   ]
  },
  {
   "cell_type": "code",
   "execution_count": 9,
   "id": "85b50089",
   "metadata": {},
   "outputs": [
    {
     "data": {
      "image/svg+xml": [
       "<?xml version=\"1.0\" encoding=\"UTF-8\" standalone=\"no\"?>\n",
       "<!DOCTYPE svg PUBLIC \"-//W3C//DTD SVG 1.1//EN\"\n",
       " \"http://www.w3.org/Graphics/SVG/1.1/DTD/svg11.dtd\">\n",
       "<!-- Generated by graphviz version 2.50.0 (20211204.2007)\n",
       " -->\n",
       "<!-- Pages: 1 -->\n",
       "<svg width=\"316pt\" height=\"188pt\"\n",
       " viewBox=\"0.00 0.00 316.00 188.00\" xmlns=\"http://www.w3.org/2000/svg\" xmlns:xlink=\"http://www.w3.org/1999/xlink\">\n",
       "<g id=\"graph0\" class=\"graph\" transform=\"scale(1 1) rotate(0) translate(4 184)\">\n",
       "<polygon fill=\"white\" stroke=\"transparent\" points=\"-4,4 -4,-184 312,-184 312,4 -4,4\"/>\n",
       "<!-- T -->\n",
       "<g id=\"node1\" class=\"node\">\n",
       "<title>T</title>\n",
       "<ellipse fill=\"none\" stroke=\"gold\" cx=\"27\" cy=\"-90\" rx=\"27\" ry=\"18\"/>\n",
       "<text text-anchor=\"middle\" x=\"27\" y=\"-86.3\" font-family=\"Times,serif\" font-size=\"14.00\">T</text>\n",
       "</g>\n",
       "<!-- Y -->\n",
       "<g id=\"node2\" class=\"node\">\n",
       "<title>Y</title>\n",
       "<ellipse fill=\"none\" stroke=\"black\" cx=\"137\" cy=\"-18\" rx=\"27\" ry=\"18\"/>\n",
       "<text text-anchor=\"middle\" x=\"137\" y=\"-14.3\" font-family=\"Times,serif\" font-size=\"14.00\">Y</text>\n",
       "</g>\n",
       "<!-- T&#45;&gt;Y -->\n",
       "<g id=\"edge1\" class=\"edge\">\n",
       "<title>T&#45;&gt;Y</title>\n",
       "<path fill=\"none\" stroke=\"black\" d=\"M46.16,-76.81C63.67,-65.67 89.76,-49.06 109.49,-36.5\"/>\n",
       "<polygon fill=\"black\" stroke=\"black\" points=\"111.5,-39.37 118.06,-31.05 107.74,-33.47 111.5,-39.37\"/>\n",
       "</g>\n",
       "<!-- C -->\n",
       "<g id=\"node3\" class=\"node\">\n",
       "<title>C</title>\n",
       "<ellipse fill=\"none\" stroke=\"black\" cx=\"54\" cy=\"-162\" rx=\"27\" ry=\"18\"/>\n",
       "<text text-anchor=\"middle\" x=\"54\" y=\"-158.3\" font-family=\"Times,serif\" font-size=\"14.00\">C</text>\n",
       "</g>\n",
       "<!-- C&#45;&gt;T -->\n",
       "<g id=\"edge2\" class=\"edge\">\n",
       "<title>C&#45;&gt;T</title>\n",
       "<path fill=\"none\" stroke=\"black\" d=\"M47.6,-144.41C44.49,-136.34 40.67,-126.43 37.17,-117.35\"/>\n",
       "<polygon fill=\"black\" stroke=\"black\" points=\"40.4,-116.03 33.54,-107.96 33.87,-118.55 40.4,-116.03\"/>\n",
       "</g>\n",
       "<!-- C&#45;&gt;Y -->\n",
       "<g id=\"edge3\" class=\"edge\">\n",
       "<title>C&#45;&gt;Y</title>\n",
       "<path fill=\"none\" stroke=\"black\" d=\"M61.96,-144.62C70.91,-126.54 86.15,-96.71 101,-72 106.85,-62.28 113.75,-51.89 119.94,-42.91\"/>\n",
       "<polygon fill=\"black\" stroke=\"black\" points=\"122.97,-44.68 125.82,-34.47 117.23,-40.67 122.97,-44.68\"/>\n",
       "</g>\n",
       "<!-- x1 -->\n",
       "<g id=\"node4\" class=\"node\">\n",
       "<title>x1</title>\n",
       "<ellipse fill=\"none\" stroke=\"black\" cx=\"137\" cy=\"-90\" rx=\"27\" ry=\"18\"/>\n",
       "<text text-anchor=\"middle\" x=\"137\" y=\"-86.3\" font-family=\"Times,serif\" font-size=\"14.00\">x1</text>\n",
       "</g>\n",
       "<!-- x1&#45;&gt;Y -->\n",
       "<g id=\"edge4\" class=\"edge\">\n",
       "<title>x1&#45;&gt;Y</title>\n",
       "<path fill=\"none\" stroke=\"black\" d=\"M137,-71.7C137,-63.98 137,-54.71 137,-46.11\"/>\n",
       "<polygon fill=\"black\" stroke=\"black\" points=\"140.5,-46.1 137,-36.1 133.5,-46.1 140.5,-46.1\"/>\n",
       "</g>\n",
       "<!-- x2 -->\n",
       "<g id=\"node5\" class=\"node\">\n",
       "<title>x2</title>\n",
       "<ellipse fill=\"none\" stroke=\"black\" cx=\"209\" cy=\"-90\" rx=\"27\" ry=\"18\"/>\n",
       "<text text-anchor=\"middle\" x=\"209\" y=\"-86.3\" font-family=\"Times,serif\" font-size=\"14.00\">x2</text>\n",
       "</g>\n",
       "<!-- x2&#45;&gt;Y -->\n",
       "<g id=\"edge5\" class=\"edge\">\n",
       "<title>x2&#45;&gt;Y</title>\n",
       "<path fill=\"none\" stroke=\"black\" d=\"M194.43,-74.83C184.25,-64.94 170.48,-51.55 158.97,-40.36\"/>\n",
       "<polygon fill=\"black\" stroke=\"black\" points=\"161.41,-37.85 151.8,-33.38 156.53,-42.87 161.41,-37.85\"/>\n",
       "</g>\n",
       "<!-- x3 -->\n",
       "<g id=\"node6\" class=\"node\">\n",
       "<title>x3</title>\n",
       "<ellipse fill=\"none\" stroke=\"black\" cx=\"281\" cy=\"-90\" rx=\"27\" ry=\"18\"/>\n",
       "<text text-anchor=\"middle\" x=\"281\" y=\"-86.3\" font-family=\"Times,serif\" font-size=\"14.00\">x3</text>\n",
       "</g>\n",
       "<!-- x3&#45;&gt;Y -->\n",
       "<g id=\"edge6\" class=\"edge\">\n",
       "<title>x3&#45;&gt;Y</title>\n",
       "<path fill=\"none\" stroke=\"black\" d=\"M259.75,-78.67C235.4,-66.83 195.28,-47.33 167.57,-33.86\"/>\n",
       "<polygon fill=\"black\" stroke=\"black\" points=\"168.86,-30.6 158.33,-29.37 165.8,-36.89 168.86,-30.6\"/>\n",
       "</g>\n",
       "</g>\n",
       "</svg>\n"
      ],
      "text/plain": [
       "<graphviz.graphs.Digraph at 0x7f83d8e198e0>"
      ]
     },
     "execution_count": 9,
     "metadata": {},
     "output_type": "execute_result"
    }
   ],
   "source": [
    "g = gr.Digraph()\n",
    "g.edge(\"T\", \"Y\"),g.node(\"T\", color=\"gold\")\n",
    "g.edge(\"C\", \"T\"),g.edge(\"C\", \"Y\")\n",
    "g.edge(\"x1\", \"Y\"),g.edge(\"x2\", \"Y\"),g.edge(\"x3\", \"Y\")\n",
    "g"
   ]
  },
  {
   "cell_type": "markdown",
   "id": "9e727029",
   "metadata": {},
   "source": [
    "##### 2.3 Using a Monte Carlo experiment"
   ]
  },
  {
   "cell_type": "markdown",
   "id": "291f94dc",
   "metadata": {},
   "source": [
    "a. Fail to control for the confounder"
   ]
  },
  {
   "cell_type": "code",
   "execution_count": 10,
   "id": "331aa366",
   "metadata": {},
   "outputs": [
    {
     "name": "stderr",
     "output_type": "stream",
     "text": [
      "100%|██████████████████████████████████████| 2000/2000 [00:09<00:00, 207.11it/s]\n",
      "100%|███████████████████████████████████████| 2000/2000 [01:22<00:00, 24.20it/s]"
     ]
    },
    {
     "name": "stdout",
     "output_type": "stream",
     "text": [
      "N=100: bias=2.5066269961960934, RMSE=2.5144783571941565, size=1.0\n",
      "N=1000: bias=2.499183209022602, RMSE=2.5000034402960165, size=1.0\n"
     ]
    },
    {
     "name": "stderr",
     "output_type": "stream",
     "text": [
      "\n"
     ]
    }
   ],
   "source": [
    "control_conf=False\n",
    "control_flagX=True\n",
    "control_s=False\n",
    "estDict = {}\n",
    "Nrange = range(2000)\n",
    "for N in [100,1000]:\n",
    "    tauhats,sehats = fn_get_estimate(tau,Nrange,p,corr,conf,sv,control_conf,control_flagX,control_s)\n",
    "    estDict[N] = {\n",
    "        'tauhat':np.array(tauhats).reshape([len(tauhats),1]),\n",
    "        'sehat':np.array(sehats).reshape([len(sehats),1])\n",
    "    }\n",
    "\n",
    "tau0 = tau*np.ones([len(Nrange),1])\n",
    "for N, results in estDict.items():\n",
    "    (bias,rmse,size) = fn_bias_rmse_size(tau0,results['tauhat'],\n",
    "                                         results['sehat'])\n",
    "    print(f'N={N}: bias={bias}, RMSE={rmse}, size={size}')"
   ]
  },
  {
   "cell_type": "markdown",
   "id": "b95d4031",
   "metadata": {},
   "source": [
    "b. Do control for the confounder"
   ]
  },
  {
   "cell_type": "code",
   "execution_count": 11,
   "id": "c01fac38",
   "metadata": {},
   "outputs": [
    {
     "name": "stderr",
     "output_type": "stream",
     "text": [
      "100%|██████████████████████████████████████| 2000/2000 [00:09<00:00, 209.95it/s]\n",
      "100%|███████████████████████████████████████| 2000/2000 [01:22<00:00, 24.38it/s]"
     ]
    },
    {
     "name": "stdout",
     "output_type": "stream",
     "text": [
      "N=100: bias=0.006429689158677604, RMSE=0.1928300474540253, size=0.0545\n",
      "N=1000: bias=-0.0014419408603055506, RMSE=0.05973898471661796, size=0.0475\n"
     ]
    },
    {
     "name": "stderr",
     "output_type": "stream",
     "text": [
      "\n"
     ]
    }
   ],
   "source": [
    "control_conf=True\n",
    "control_flagX=True\n",
    "control_s=False\n",
    "estDict = {}\n",
    "Nrange = range(2000)\n",
    "for N in [100,1000]:\n",
    "    tauhats,sehats = fn_get_estimate(tau,Nrange,p,corr,conf,sv,control_conf,control_flagX,control_s)\n",
    "    estDict[N] = {\n",
    "        'tauhat':np.array(tauhats).reshape([len(tauhats),1]),\n",
    "        'sehat':np.array(sehats).reshape([len(sehats),1])\n",
    "    }\n",
    "\n",
    "tau0 = tau*np.ones([len(Nrange),1])\n",
    "for N, results in estDict.items():\n",
    "    (bias,rmse,size) = fn_bias_rmse_size(tau0,results['tauhat'],\n",
    "                                         results['sehat'])\n",
    "    print(f'N={N}: bias={bias}, RMSE={rmse}, size={size}')"
   ]
  },
  {
   "cell_type": "markdown",
   "id": "74e46925",
   "metadata": {},
   "source": [
    "##### 2.4 Give an example of a real-life situation that might be consistent with the DGP\n"
   ]
  },
  {
   "cell_type": "markdown",
   "id": "16594dae",
   "metadata": {},
   "source": [
    "### If we want to assess the effects of smoking on people's health. The degree of people concern about their health is the confounder, since it partly determines whether people smoke or not, and it also affect the health. Therefore, it is essential to control for it."
   ]
  },
  {
   "cell_type": "code",
   "execution_count": 12,
   "id": "b4f7f12d",
   "metadata": {},
   "outputs": [
    {
     "data": {
      "image/svg+xml": [
       "<?xml version=\"1.0\" encoding=\"UTF-8\" standalone=\"no\"?>\n",
       "<!DOCTYPE svg PUBLIC \"-//W3C//DTD SVG 1.1//EN\"\n",
       " \"http://www.w3.org/Graphics/SVG/1.1/DTD/svg11.dtd\">\n",
       "<!-- Generated by graphviz version 2.50.0 (20211204.2007)\n",
       " -->\n",
       "<!-- Pages: 1 -->\n",
       "<svg width=\"193pt\" height=\"188pt\"\n",
       " viewBox=\"0.00 0.00 192.58 188.00\" xmlns=\"http://www.w3.org/2000/svg\" xmlns:xlink=\"http://www.w3.org/1999/xlink\">\n",
       "<g id=\"graph0\" class=\"graph\" transform=\"scale(1 1) rotate(0) translate(4 184)\">\n",
       "<polygon fill=\"white\" stroke=\"transparent\" points=\"-4,4 -4,-184 188.58,-184 188.58,4 -4,4\"/>\n",
       "<!-- Smoking -->\n",
       "<g id=\"node1\" class=\"node\">\n",
       "<title>Smoking</title>\n",
       "<ellipse fill=\"none\" stroke=\"gold\" cx=\"57.29\" cy=\"-90\" rx=\"42.79\" ry=\"18\"/>\n",
       "<text text-anchor=\"middle\" x=\"57.29\" y=\"-86.3\" font-family=\"Times,serif\" font-size=\"14.00\">Smoking</text>\n",
       "</g>\n",
       "<!-- Health -->\n",
       "<g id=\"node2\" class=\"node\">\n",
       "<title>Health</title>\n",
       "<ellipse fill=\"none\" stroke=\"black\" cx=\"92.29\" cy=\"-18\" rx=\"34.39\" ry=\"18\"/>\n",
       "<text text-anchor=\"middle\" x=\"92.29\" y=\"-14.3\" font-family=\"Times,serif\" font-size=\"14.00\">Health</text>\n",
       "</g>\n",
       "<!-- Smoking&#45;&gt;Health -->\n",
       "<g id=\"edge1\" class=\"edge\">\n",
       "<title>Smoking&#45;&gt;Health</title>\n",
       "<path fill=\"none\" stroke=\"black\" d=\"M65.76,-72.05C69.85,-63.89 74.84,-53.91 79.38,-44.82\"/>\n",
       "<polygon fill=\"black\" stroke=\"black\" points=\"82.56,-46.3 83.9,-35.79 76.29,-43.17 82.56,-46.3\"/>\n",
       "</g>\n",
       "<!-- The degree of Concern -->\n",
       "<g id=\"node3\" class=\"node\">\n",
       "<title>The degree of Concern</title>\n",
       "<ellipse fill=\"none\" stroke=\"black\" cx=\"92.29\" cy=\"-162\" rx=\"92.08\" ry=\"18\"/>\n",
       "<text text-anchor=\"middle\" x=\"92.29\" y=\"-158.3\" font-family=\"Times,serif\" font-size=\"14.00\">The degree of Concern</text>\n",
       "</g>\n",
       "<!-- The degree of Concern&#45;&gt;Smoking -->\n",
       "<g id=\"edge2\" class=\"edge\">\n",
       "<title>The degree of Concern&#45;&gt;Smoking</title>\n",
       "<path fill=\"none\" stroke=\"black\" d=\"M83.82,-144.05C79.74,-135.89 74.75,-125.91 70.2,-116.82\"/>\n",
       "<polygon fill=\"black\" stroke=\"black\" points=\"73.29,-115.17 65.69,-107.79 67.03,-118.3 73.29,-115.17\"/>\n",
       "</g>\n",
       "<!-- The degree of Concern&#45;&gt;Health -->\n",
       "<g id=\"edge3\" class=\"edge\">\n",
       "<title>The degree of Concern&#45;&gt;Health</title>\n",
       "<path fill=\"none\" stroke=\"black\" d=\"M99.36,-143.67C103.13,-133.47 107.38,-120.22 109.29,-108 111.76,-92.19 111.76,-87.81 109.29,-72 107.91,-63.18 105.31,-53.82 102.55,-45.46\"/>\n",
       "<polygon fill=\"black\" stroke=\"black\" points=\"105.8,-44.13 99.18,-35.86 99.19,-46.45 105.8,-44.13\"/>\n",
       "</g>\n",
       "</g>\n",
       "</svg>\n"
      ],
      "text/plain": [
       "<graphviz.graphs.Digraph at 0x7f83d8e19970>"
      ]
     },
     "execution_count": 12,
     "metadata": {},
     "output_type": "execute_result"
    }
   ],
   "source": [
    "g = gr.Digraph()\n",
    "g.edge(\"Smoking\", \"Health\"),g.node(\"Smoking\", color=\"gold\")\n",
    "g.edge(\"The degree of Concern\", \"Smoking\"),g.edge(\"The degree of Concern\", \"Health\")\n",
    "g"
   ]
  },
  {
   "cell_type": "markdown",
   "id": "00aae463",
   "metadata": {},
   "source": [
    "# 3. Simulate a DGP with selection bias into the treatment"
   ]
  },
  {
   "cell_type": "markdown",
   "id": "f5b23ae5",
   "metadata": {},
   "source": [
    "#### $y_i = \\tau*T_i+\\beta'*X_i+\\alpha'*S_i+e_i$"
   ]
  },
  {
   "cell_type": "markdown",
   "id": "0320a269",
   "metadata": {},
   "source": [
    "##### 3.1 Simulate a DGP"
   ]
  },
  {
   "cell_type": "code",
   "execution_count": 13,
   "id": "e58f1562",
   "metadata": {},
   "outputs": [
    {
     "data": {
      "text/html": [
       "<div>\n",
       "<style scoped>\n",
       "    .dataframe tbody tr th:only-of-type {\n",
       "        vertical-align: middle;\n",
       "    }\n",
       "\n",
       "    .dataframe tbody tr th {\n",
       "        vertical-align: top;\n",
       "    }\n",
       "\n",
       "    .dataframe thead th {\n",
       "        text-align: right;\n",
       "    }\n",
       "</style>\n",
       "<table border=\"1\" class=\"dataframe\">\n",
       "  <thead>\n",
       "    <tr style=\"text-align: right;\">\n",
       "      <th></th>\n",
       "      <th>Y</th>\n",
       "      <th>T</th>\n",
       "      <th>x1</th>\n",
       "      <th>x2</th>\n",
       "      <th>x3</th>\n",
       "      <th>S</th>\n",
       "    </tr>\n",
       "  </thead>\n",
       "  <tbody>\n",
       "    <tr>\n",
       "      <th>0</th>\n",
       "      <td>-46.743692</td>\n",
       "      <td>1.0</td>\n",
       "      <td>-0.696569</td>\n",
       "      <td>-1.257665</td>\n",
       "      <td>-2.576155</td>\n",
       "      <td>1.0</td>\n",
       "    </tr>\n",
       "    <tr>\n",
       "      <th>1</th>\n",
       "      <td>14.344194</td>\n",
       "      <td>0.0</td>\n",
       "      <td>0.379108</td>\n",
       "      <td>0.814514</td>\n",
       "      <td>0.200935</td>\n",
       "      <td>1.0</td>\n",
       "    </tr>\n",
       "    <tr>\n",
       "      <th>2</th>\n",
       "      <td>-38.917504</td>\n",
       "      <td>0.0</td>\n",
       "      <td>-2.270885</td>\n",
       "      <td>-1.097012</td>\n",
       "      <td>-0.742237</td>\n",
       "      <td>0.0</td>\n",
       "    </tr>\n",
       "    <tr>\n",
       "      <th>3</th>\n",
       "      <td>5.335245</td>\n",
       "      <td>0.0</td>\n",
       "      <td>-0.994142</td>\n",
       "      <td>-0.622819</td>\n",
       "      <td>1.244126</td>\n",
       "      <td>0.0</td>\n",
       "    </tr>\n",
       "    <tr>\n",
       "      <th>4</th>\n",
       "      <td>-17.662137</td>\n",
       "      <td>0.0</td>\n",
       "      <td>-1.299165</td>\n",
       "      <td>-0.321498</td>\n",
       "      <td>-0.265444</td>\n",
       "      <td>0.0</td>\n",
       "    </tr>\n",
       "    <tr>\n",
       "      <th>...</th>\n",
       "      <td>...</td>\n",
       "      <td>...</td>\n",
       "      <td>...</td>\n",
       "      <td>...</td>\n",
       "      <td>...</td>\n",
       "      <td>...</td>\n",
       "    </tr>\n",
       "    <tr>\n",
       "      <th>995</th>\n",
       "      <td>-3.515280</td>\n",
       "      <td>1.0</td>\n",
       "      <td>0.280009</td>\n",
       "      <td>-0.853783</td>\n",
       "      <td>-0.459286</td>\n",
       "      <td>1.0</td>\n",
       "    </tr>\n",
       "    <tr>\n",
       "      <th>996</th>\n",
       "      <td>-11.330205</td>\n",
       "      <td>0.0</td>\n",
       "      <td>-2.084976</td>\n",
       "      <td>-0.238290</td>\n",
       "      <td>0.686844</td>\n",
       "      <td>0.0</td>\n",
       "    </tr>\n",
       "    <tr>\n",
       "      <th>997</th>\n",
       "      <td>29.755596</td>\n",
       "      <td>0.0</td>\n",
       "      <td>1.294296</td>\n",
       "      <td>1.812507</td>\n",
       "      <td>0.276850</td>\n",
       "      <td>0.0</td>\n",
       "    </tr>\n",
       "    <tr>\n",
       "      <th>998</th>\n",
       "      <td>36.302409</td>\n",
       "      <td>1.0</td>\n",
       "      <td>0.142494</td>\n",
       "      <td>0.104393</td>\n",
       "      <td>2.008951</td>\n",
       "      <td>1.0</td>\n",
       "    </tr>\n",
       "    <tr>\n",
       "      <th>999</th>\n",
       "      <td>-49.963570</td>\n",
       "      <td>1.0</td>\n",
       "      <td>-1.879740</td>\n",
       "      <td>-1.720412</td>\n",
       "      <td>-1.860766</td>\n",
       "      <td>0.0</td>\n",
       "    </tr>\n",
       "  </tbody>\n",
       "</table>\n",
       "<p>1000 rows × 6 columns</p>\n",
       "</div>"
      ],
      "text/plain": [
       "             Y    T        x1        x2        x3    S\n",
       "0   -46.743692  1.0 -0.696569 -1.257665 -2.576155  1.0\n",
       "1    14.344194  0.0  0.379108  0.814514  0.200935  1.0\n",
       "2   -38.917504  0.0 -2.270885 -1.097012 -0.742237  0.0\n",
       "3     5.335245  0.0 -0.994142 -0.622819  1.244126  0.0\n",
       "4   -17.662137  0.0 -1.299165 -0.321498 -0.265444  0.0\n",
       "..         ...  ...       ...       ...       ...  ...\n",
       "995  -3.515280  1.0  0.280009 -0.853783 -0.459286  1.0\n",
       "996 -11.330205  0.0 -2.084976 -0.238290  0.686844  0.0\n",
       "997  29.755596  0.0  1.294296  1.812507  0.276850  0.0\n",
       "998  36.302409  1.0  0.142494  0.104393  2.008951  1.0\n",
       "999 -49.963570  1.0 -1.879740 -1.720412 -1.860766  0.0\n",
       "\n",
       "[1000 rows x 6 columns]"
      ]
     },
     "execution_count": 13,
     "metadata": {},
     "output_type": "execute_result"
    }
   ],
   "source": [
    "tau = 5\n",
    "corr = .5\n",
    "conf = False\n",
    "flagX = True\n",
    "sv = True\n",
    "p = 3\n",
    "N = 1000\n",
    "(Yab,T,X,S) = fn_generate_data(tau,N,p,corr,conf,sv)\n",
    "data3 = np.concatenate((Yab,T,X,S),axis=1)\n",
    "Data3 = pd.DataFrame(np.array(data3), columns=['Y','T','x1','x2','x3','S'])\n",
    "Data3"
   ]
  },
  {
   "cell_type": "markdown",
   "id": "558cf462",
   "metadata": {},
   "source": [
    "##### 3.2 Illustrate the DGP with a DAG"
   ]
  },
  {
   "cell_type": "code",
   "execution_count": 14,
   "id": "7d4e22e5",
   "metadata": {},
   "outputs": [
    {
     "data": {
      "image/svg+xml": [
       "<?xml version=\"1.0\" encoding=\"UTF-8\" standalone=\"no\"?>\n",
       "<!DOCTYPE svg PUBLIC \"-//W3C//DTD SVG 1.1//EN\"\n",
       " \"http://www.w3.org/Graphics/SVG/1.1/DTD/svg11.dtd\">\n",
       "<!-- Generated by graphviz version 2.50.0 (20211204.2007)\n",
       " -->\n",
       "<!-- Pages: 1 -->\n",
       "<svg width=\"306pt\" height=\"188pt\"\n",
       " viewBox=\"0.00 0.00 306.00 188.00\" xmlns=\"http://www.w3.org/2000/svg\" xmlns:xlink=\"http://www.w3.org/1999/xlink\">\n",
       "<g id=\"graph0\" class=\"graph\" transform=\"scale(1 1) rotate(0) translate(4 184)\">\n",
       "<polygon fill=\"white\" stroke=\"transparent\" points=\"-4,4 -4,-184 302,-184 302,4 -4,4\"/>\n",
       "<!-- T -->\n",
       "<g id=\"node1\" class=\"node\">\n",
       "<title>T</title>\n",
       "<ellipse fill=\"none\" stroke=\"gold\" cx=\"27\" cy=\"-162\" rx=\"27\" ry=\"18\"/>\n",
       "<text text-anchor=\"middle\" x=\"27\" y=\"-158.3\" font-family=\"Times,serif\" font-size=\"14.00\">T</text>\n",
       "</g>\n",
       "<!-- Y -->\n",
       "<g id=\"node2\" class=\"node\">\n",
       "<title>Y</title>\n",
       "<ellipse fill=\"none\" stroke=\"black\" cx=\"127\" cy=\"-18\" rx=\"27\" ry=\"18\"/>\n",
       "<text text-anchor=\"middle\" x=\"127\" y=\"-14.3\" font-family=\"Times,serif\" font-size=\"14.00\">Y</text>\n",
       "</g>\n",
       "<!-- T&#45;&gt;Y -->\n",
       "<g id=\"edge1\" class=\"edge\">\n",
       "<title>T&#45;&gt;Y</title>\n",
       "<path fill=\"none\" stroke=\"black\" d=\"M19.93,-144.52C12.97,-125.54 5.22,-94.12 19,-72 34.73,-46.76 66.37,-33.2 91.36,-26.14\"/>\n",
       "<polygon fill=\"black\" stroke=\"black\" points=\"92.45,-29.47 101.25,-23.57 90.69,-22.7 92.45,-29.47\"/>\n",
       "</g>\n",
       "<!-- S -->\n",
       "<g id=\"node3\" class=\"node\">\n",
       "<title>S</title>\n",
       "<ellipse fill=\"none\" stroke=\"black\" cx=\"55\" cy=\"-90\" rx=\"27\" ry=\"18\"/>\n",
       "<text text-anchor=\"middle\" x=\"55\" y=\"-86.3\" font-family=\"Times,serif\" font-size=\"14.00\">S</text>\n",
       "</g>\n",
       "<!-- T&#45;&gt;S -->\n",
       "<g id=\"edge2\" class=\"edge\">\n",
       "<title>T&#45;&gt;S</title>\n",
       "<path fill=\"none\" stroke=\"black\" d=\"M33.64,-144.41C36.91,-136.22 40.94,-126.14 44.62,-116.95\"/>\n",
       "<polygon fill=\"black\" stroke=\"black\" points=\"47.95,-118.05 48.41,-107.47 41.45,-115.45 47.95,-118.05\"/>\n",
       "</g>\n",
       "<!-- S&#45;&gt;Y -->\n",
       "<g id=\"edge3\" class=\"edge\">\n",
       "<title>S&#45;&gt;Y</title>\n",
       "<path fill=\"none\" stroke=\"black\" d=\"M69.57,-74.83C79.75,-64.94 93.52,-51.55 105.03,-40.36\"/>\n",
       "<polygon fill=\"black\" stroke=\"black\" points=\"107.47,-42.87 112.2,-33.38 102.59,-37.85 107.47,-42.87\"/>\n",
       "</g>\n",
       "<!-- x1 -->\n",
       "<g id=\"node4\" class=\"node\">\n",
       "<title>x1</title>\n",
       "<ellipse fill=\"none\" stroke=\"black\" cx=\"127\" cy=\"-90\" rx=\"27\" ry=\"18\"/>\n",
       "<text text-anchor=\"middle\" x=\"127\" y=\"-86.3\" font-family=\"Times,serif\" font-size=\"14.00\">x1</text>\n",
       "</g>\n",
       "<!-- x1&#45;&gt;Y -->\n",
       "<g id=\"edge4\" class=\"edge\">\n",
       "<title>x1&#45;&gt;Y</title>\n",
       "<path fill=\"none\" stroke=\"black\" d=\"M127,-71.7C127,-63.98 127,-54.71 127,-46.11\"/>\n",
       "<polygon fill=\"black\" stroke=\"black\" points=\"130.5,-46.1 127,-36.1 123.5,-46.1 130.5,-46.1\"/>\n",
       "</g>\n",
       "<!-- x2 -->\n",
       "<g id=\"node5\" class=\"node\">\n",
       "<title>x2</title>\n",
       "<ellipse fill=\"none\" stroke=\"black\" cx=\"199\" cy=\"-90\" rx=\"27\" ry=\"18\"/>\n",
       "<text text-anchor=\"middle\" x=\"199\" y=\"-86.3\" font-family=\"Times,serif\" font-size=\"14.00\">x2</text>\n",
       "</g>\n",
       "<!-- x2&#45;&gt;Y -->\n",
       "<g id=\"edge5\" class=\"edge\">\n",
       "<title>x2&#45;&gt;Y</title>\n",
       "<path fill=\"none\" stroke=\"black\" d=\"M184.43,-74.83C174.25,-64.94 160.48,-51.55 148.97,-40.36\"/>\n",
       "<polygon fill=\"black\" stroke=\"black\" points=\"151.41,-37.85 141.8,-33.38 146.53,-42.87 151.41,-37.85\"/>\n",
       "</g>\n",
       "<!-- x3 -->\n",
       "<g id=\"node6\" class=\"node\">\n",
       "<title>x3</title>\n",
       "<ellipse fill=\"none\" stroke=\"black\" cx=\"271\" cy=\"-90\" rx=\"27\" ry=\"18\"/>\n",
       "<text text-anchor=\"middle\" x=\"271\" y=\"-86.3\" font-family=\"Times,serif\" font-size=\"14.00\">x3</text>\n",
       "</g>\n",
       "<!-- x3&#45;&gt;Y -->\n",
       "<g id=\"edge6\" class=\"edge\">\n",
       "<title>x3&#45;&gt;Y</title>\n",
       "<path fill=\"none\" stroke=\"black\" d=\"M249.75,-78.67C225.4,-66.83 185.28,-47.33 157.57,-33.86\"/>\n",
       "<polygon fill=\"black\" stroke=\"black\" points=\"158.86,-30.6 148.33,-29.37 155.8,-36.89 158.86,-30.6\"/>\n",
       "</g>\n",
       "</g>\n",
       "</svg>\n"
      ],
      "text/plain": [
       "<graphviz.graphs.Digraph at 0x7f83d8e25d30>"
      ]
     },
     "execution_count": 14,
     "metadata": {},
     "output_type": "execute_result"
    }
   ],
   "source": [
    "g = gr.Digraph()\n",
    "g.edge(\"T\", \"Y\"),g.node(\"T\", color=\"gold\")\n",
    "g.edge(\"T\", \"S\"),g.edge(\"S\", \"Y\")\n",
    "g.edge(\"x1\", \"Y\"),g.edge(\"x2\", \"Y\"),g.edge(\"x3\", \"Y\")\n",
    "g"
   ]
  },
  {
   "cell_type": "markdown",
   "id": "78283f8e",
   "metadata": {},
   "source": [
    "##### 3.3 Using a Monte Carlo experiment"
   ]
  },
  {
   "cell_type": "markdown",
   "id": "9ebdeefc",
   "metadata": {},
   "source": [
    "a. Control for the variable in between the path from cause to effect"
   ]
  },
  {
   "cell_type": "code",
   "execution_count": 15,
   "id": "bc6ecdd9",
   "metadata": {},
   "outputs": [
    {
     "name": "stderr",
     "output_type": "stream",
     "text": [
      "100%|██████████████████████████████████████| 2000/2000 [00:09<00:00, 213.40it/s]\n",
      "100%|███████████████████████████████████████| 2000/2000 [01:21<00:00, 24.45it/s]"
     ]
    },
    {
     "name": "stdout",
     "output_type": "stream",
     "text": [
      "N=100: bias=-0.5961914014685952, RMSE=0.6221914948840234, size=0.9215\n",
      "N=1000: bias=-0.5987157476334474, RMSE=0.6012477713298326, size=1.0\n"
     ]
    },
    {
     "name": "stderr",
     "output_type": "stream",
     "text": [
      "\n"
     ]
    }
   ],
   "source": [
    "control_conf=False\n",
    "control_flagX=True\n",
    "control_s=True\n",
    "estDict = {}\n",
    "Nrange = range(2000)\n",
    "for N in [100,1000]:\n",
    "    tauhats,sehats = fn_get_estimate(tau,Nrange,p,corr,conf,sv,control_conf,control_flagX,control_s)\n",
    "    estDict[N] = {\n",
    "        'tauhat':np.array(tauhats).reshape([len(tauhats),1]),\n",
    "        'sehat':np.array(sehats).reshape([len(sehats),1])\n",
    "    }\n",
    "\n",
    "tau0 = (tau+0.6)*np.ones([len(Nrange),1]) # 0.6 is the probability of S get 1\n",
    "for N, results in estDict.items():\n",
    "    (bias,rmse,size) = fn_bias_rmse_size(tau0,results['tauhat'],\n",
    "                                         results['sehat'])\n",
    "    print(f'N={N}: bias={bias}, RMSE={rmse}, size={size}')"
   ]
  },
  {
   "cell_type": "markdown",
   "id": "84d6a0ff",
   "metadata": {},
   "source": [
    "b. Do not control for the variable in between the path from cause to effect"
   ]
  },
  {
   "cell_type": "code",
   "execution_count": 16,
   "id": "d79d9f17",
   "metadata": {},
   "outputs": [
    {
     "name": "stderr",
     "output_type": "stream",
     "text": [
      "100%|██████████████████████████████████████| 2000/2000 [00:09<00:00, 216.42it/s]\n",
      "100%|███████████████████████████████████████| 2000/2000 [01:20<00:00, 24.77it/s]"
     ]
    },
    {
     "name": "stdout",
     "output_type": "stream",
     "text": [
      "N=100: bias=0.0020460935694010126, RMSE=0.1632316773836265, size=0.065\n",
      "N=1000: bias=-0.000955341174656847, RMSE=0.049814004199282905, size=0.053\n"
     ]
    },
    {
     "name": "stderr",
     "output_type": "stream",
     "text": [
      "\n"
     ]
    }
   ],
   "source": [
    "control_conf=False\n",
    "control_flagX=True\n",
    "control_s=False\n",
    "estDict = {}\n",
    "Nrange = range(2000)\n",
    "for N in [100,1000]:\n",
    "    tauhats,sehats = fn_get_estimate(tau,Nrange,p,corr,conf,sv,control_conf,control_flagX,control_s)\n",
    "    estDict[N] = {\n",
    "        'tauhat':np.array(tauhats).reshape([len(tauhats),1]),\n",
    "        'sehat':np.array(sehats).reshape([len(sehats),1])\n",
    "    }\n",
    "\n",
    "tau0 = (tau+0.6)*np.ones([len(Nrange),1])\n",
    "for N, results in estDict.items():\n",
    "    (bias,rmse,size) = fn_bias_rmse_size(tau0,results['tauhat'],\n",
    "                                         results['sehat'])\n",
    "    print(f'N={N}: bias={bias}, RMSE={rmse}, size={size}')"
   ]
  },
  {
   "cell_type": "markdown",
   "id": "440e6c1f",
   "metadata": {},
   "source": [
    "##### 3.4 Give an example of a real-life situation that might be consistent with the DGP"
   ]
  },
  {
   "cell_type": "markdown",
   "id": "a60be768",
   "metadata": {},
   "source": [
    "### We want to evaluate the effect of credit incentives to people's consumption levels. Credit incentives affect whether people take out loans and thus change consumption levels. We should not control the variables of whether people take out loans or not, since it's in the path from treatment to outcome."
   ]
  },
  {
   "cell_type": "code",
   "execution_count": 17,
   "id": "6da97636",
   "metadata": {},
   "outputs": [
    {
     "data": {
      "image/svg+xml": [
       "<?xml version=\"1.0\" encoding=\"UTF-8\" standalone=\"no\"?>\n",
       "<!DOCTYPE svg PUBLIC \"-//W3C//DTD SVG 1.1//EN\"\n",
       " \"http://www.w3.org/Graphics/SVG/1.1/DTD/svg11.dtd\">\n",
       "<!-- Generated by graphviz version 2.50.0 (20211204.2007)\n",
       " -->\n",
       "<!-- Pages: 1 -->\n",
       "<svg width=\"150pt\" height=\"188pt\"\n",
       " viewBox=\"0.00 0.00 149.69 188.00\" xmlns=\"http://www.w3.org/2000/svg\" xmlns:xlink=\"http://www.w3.org/1999/xlink\">\n",
       "<g id=\"graph0\" class=\"graph\" transform=\"scale(1 1) rotate(0) translate(4 184)\">\n",
       "<polygon fill=\"white\" stroke=\"transparent\" points=\"-4,4 -4,-184 145.69,-184 145.69,4 -4,4\"/>\n",
       "<!-- Credit incentives -->\n",
       "<g id=\"node1\" class=\"node\">\n",
       "<title>Credit incentives</title>\n",
       "<ellipse fill=\"none\" stroke=\"gold\" cx=\"70.84\" cy=\"-162\" rx=\"70.69\" ry=\"18\"/>\n",
       "<text text-anchor=\"middle\" x=\"70.84\" y=\"-158.3\" font-family=\"Times,serif\" font-size=\"14.00\">Credit incentives</text>\n",
       "</g>\n",
       "<!-- Consumption -->\n",
       "<g id=\"node2\" class=\"node\">\n",
       "<title>Consumption</title>\n",
       "<ellipse fill=\"none\" stroke=\"black\" cx=\"70.84\" cy=\"-18\" rx=\"58.49\" ry=\"18\"/>\n",
       "<text text-anchor=\"middle\" x=\"70.84\" y=\"-14.3\" font-family=\"Times,serif\" font-size=\"14.00\">Consumption</text>\n",
       "</g>\n",
       "<!-- Credit incentives&#45;&gt;Consumption -->\n",
       "<g id=\"edge1\" class=\"edge\">\n",
       "<title>Credit incentives&#45;&gt;Consumption</title>\n",
       "<path fill=\"none\" stroke=\"black\" d=\"M66.38,-143.95C63.91,-133.63 61.09,-120.15 59.84,-108 58.21,-92.08 58.21,-87.92 59.84,-72 60.72,-63.46 62.37,-54.26 64.14,-45.96\"/>\n",
       "<polygon fill=\"black\" stroke=\"black\" points=\"67.59,-46.57 66.38,-36.05 60.76,-45.03 67.59,-46.57\"/>\n",
       "</g>\n",
       "<!-- Loans -->\n",
       "<g id=\"node3\" class=\"node\">\n",
       "<title>Loans</title>\n",
       "<ellipse fill=\"none\" stroke=\"black\" cx=\"100.84\" cy=\"-90\" rx=\"32.49\" ry=\"18\"/>\n",
       "<text text-anchor=\"middle\" x=\"100.84\" y=\"-86.3\" font-family=\"Times,serif\" font-size=\"14.00\">Loans</text>\n",
       "</g>\n",
       "<!-- Credit incentives&#45;&gt;Loans -->\n",
       "<g id=\"edge2\" class=\"edge\">\n",
       "<title>Credit incentives&#45;&gt;Loans</title>\n",
       "<path fill=\"none\" stroke=\"black\" d=\"M78.11,-144.05C81.57,-135.97 85.79,-126.12 89.65,-117.11\"/>\n",
       "<polygon fill=\"black\" stroke=\"black\" points=\"92.93,-118.36 93.65,-107.79 86.49,-115.6 92.93,-118.36\"/>\n",
       "</g>\n",
       "<!-- Loans&#45;&gt;Consumption -->\n",
       "<g id=\"edge3\" class=\"edge\">\n",
       "<title>Loans&#45;&gt;Consumption</title>\n",
       "<path fill=\"none\" stroke=\"black\" d=\"M93.73,-72.41C90.27,-64.34 86.03,-54.43 82.14,-45.35\"/>\n",
       "<polygon fill=\"black\" stroke=\"black\" points=\"85.27,-43.77 78.11,-35.96 78.83,-46.53 85.27,-43.77\"/>\n",
       "</g>\n",
       "</g>\n",
       "</svg>\n"
      ],
      "text/plain": [
       "<graphviz.graphs.Digraph at 0x7f83d8dc0670>"
      ]
     },
     "execution_count": 17,
     "metadata": {},
     "output_type": "execute_result"
    }
   ],
   "source": [
    "g = gr.Digraph()\n",
    "g.edge(\"Credit incentives\", \"Consumption\"),g.node(\"Credit incentives\", color=\"gold\")\n",
    "g.edge(\"Credit incentives\", \"Loans\"),g.edge(\"Loans\", \"Consumption\")\n",
    "g"
   ]
  }
 ],
 "metadata": {
  "kernelspec": {
   "display_name": "Python 3 (ipykernel)",
   "language": "python",
   "name": "python3"
  },
  "language_info": {
   "codemirror_mode": {
    "name": "ipython",
    "version": 3
   },
   "file_extension": ".py",
   "mimetype": "text/x-python",
   "name": "python",
   "nbconvert_exporter": "python",
   "pygments_lexer": "ipython3",
   "version": "3.9.7"
  }
 },
 "nbformat": 4,
 "nbformat_minor": 5
}
